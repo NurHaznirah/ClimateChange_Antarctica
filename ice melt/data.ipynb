{
 "cells": [
  {
   "cell_type": "code",
   "execution_count": 24,
   "metadata": {},
   "outputs": [],
   "source": [
    "import pandas as pd\n",
    "import numpy as np\n",
    "import seaborn as sns\n",
    "import geopandas as gpd\n",
    "from shapely.geometry import Point\n",
    "import matplotlib.pyplot as plt\n",
    "\n",
    "\n"
   ]
  },
  {
   "cell_type": "code",
   "execution_count": 25,
   "metadata": {},
   "outputs": [],
   "source": [
    "df=pd.read_excel('C:/Users/User/Documents/INTERNSHIP/eda data/ice melt/2009.xlsx')"
   ]
  },
  {
   "cell_type": "code",
   "execution_count": 26,
   "metadata": {},
   "outputs": [
    {
     "data": {
      "text/html": [
       "<div>\n",
       "<style scoped>\n",
       "    .dataframe tbody tr th:only-of-type {\n",
       "        vertical-align: middle;\n",
       "    }\n",
       "\n",
       "    .dataframe tbody tr th {\n",
       "        vertical-align: top;\n",
       "    }\n",
       "\n",
       "    .dataframe thead th {\n",
       "        text-align: right;\n",
       "    }\n",
       "</style>\n",
       "<table border=\"1\" class=\"dataframe\">\n",
       "  <thead>\n",
       "    <tr style=\"text-align: right;\">\n",
       "      <th></th>\n",
       "      <th>LAT</th>\n",
       "      <th>LON</th>\n",
       "      <th>TIME</th>\n",
       "      <th>THICK</th>\n",
       "      <th>ELEVATION</th>\n",
       "      <th>FRAME</th>\n",
       "      <th>SURFACE</th>\n",
       "      <th>BOTTOM</th>\n",
       "      <th>QUALITY</th>\n",
       "    </tr>\n",
       "  </thead>\n",
       "  <tbody>\n",
       "    <tr>\n",
       "      <th>0</th>\n",
       "      <td>-73.347771</td>\n",
       "      <td>-107.628508</td>\n",
       "      <td>57774.5012</td>\n",
       "      <td>-9999.0</td>\n",
       "      <td>7323.3039</td>\n",
       "      <td>2009101601001</td>\n",
       "      <td>-9999.0</td>\n",
       "      <td>-9999.0</td>\n",
       "      <td>1</td>\n",
       "    </tr>\n",
       "    <tr>\n",
       "      <th>1</th>\n",
       "      <td>-73.347826</td>\n",
       "      <td>-107.628834</td>\n",
       "      <td>57774.5726</td>\n",
       "      <td>-9999.0</td>\n",
       "      <td>7322.9762</td>\n",
       "      <td>2009101601001</td>\n",
       "      <td>-9999.0</td>\n",
       "      <td>-9999.0</td>\n",
       "      <td>1</td>\n",
       "    </tr>\n",
       "    <tr>\n",
       "      <th>2</th>\n",
       "      <td>-73.347880</td>\n",
       "      <td>-107.629159</td>\n",
       "      <td>57774.6441</td>\n",
       "      <td>-9999.0</td>\n",
       "      <td>7322.6485</td>\n",
       "      <td>2009101601001</td>\n",
       "      <td>-9999.0</td>\n",
       "      <td>-9999.0</td>\n",
       "      <td>1</td>\n",
       "    </tr>\n",
       "    <tr>\n",
       "      <th>3</th>\n",
       "      <td>-73.347935</td>\n",
       "      <td>-107.629484</td>\n",
       "      <td>57774.7155</td>\n",
       "      <td>-9999.0</td>\n",
       "      <td>7322.3209</td>\n",
       "      <td>2009101601001</td>\n",
       "      <td>-9999.0</td>\n",
       "      <td>-9999.0</td>\n",
       "      <td>1</td>\n",
       "    </tr>\n",
       "    <tr>\n",
       "      <th>4</th>\n",
       "      <td>-73.347990</td>\n",
       "      <td>-107.629810</td>\n",
       "      <td>57774.7869</td>\n",
       "      <td>-9999.0</td>\n",
       "      <td>7321.9932</td>\n",
       "      <td>2009101601001</td>\n",
       "      <td>-9999.0</td>\n",
       "      <td>-9999.0</td>\n",
       "      <td>1</td>\n",
       "    </tr>\n",
       "    <tr>\n",
       "      <th>5</th>\n",
       "      <td>-73.348045</td>\n",
       "      <td>-107.630135</td>\n",
       "      <td>57774.8583</td>\n",
       "      <td>-9999.0</td>\n",
       "      <td>7321.6655</td>\n",
       "      <td>2009101601001</td>\n",
       "      <td>-9999.0</td>\n",
       "      <td>-9999.0</td>\n",
       "      <td>1</td>\n",
       "    </tr>\n",
       "    <tr>\n",
       "      <th>6</th>\n",
       "      <td>-73.348099</td>\n",
       "      <td>-107.630461</td>\n",
       "      <td>57774.9298</td>\n",
       "      <td>-9999.0</td>\n",
       "      <td>7321.3379</td>\n",
       "      <td>2009101601001</td>\n",
       "      <td>-9999.0</td>\n",
       "      <td>-9999.0</td>\n",
       "      <td>1</td>\n",
       "    </tr>\n",
       "    <tr>\n",
       "      <th>7</th>\n",
       "      <td>-73.348154</td>\n",
       "      <td>-107.630786</td>\n",
       "      <td>57775.0012</td>\n",
       "      <td>-9999.0</td>\n",
       "      <td>7321.0103</td>\n",
       "      <td>2009101601001</td>\n",
       "      <td>-9999.0</td>\n",
       "      <td>-9999.0</td>\n",
       "      <td>1</td>\n",
       "    </tr>\n",
       "    <tr>\n",
       "      <th>8</th>\n",
       "      <td>-73.348209</td>\n",
       "      <td>-107.631112</td>\n",
       "      <td>57775.0726</td>\n",
       "      <td>-9999.0</td>\n",
       "      <td>7320.6826</td>\n",
       "      <td>2009101601001</td>\n",
       "      <td>-9999.0</td>\n",
       "      <td>-9999.0</td>\n",
       "      <td>1</td>\n",
       "    </tr>\n",
       "    <tr>\n",
       "      <th>9</th>\n",
       "      <td>-73.348264</td>\n",
       "      <td>-107.631437</td>\n",
       "      <td>57775.1440</td>\n",
       "      <td>-9999.0</td>\n",
       "      <td>7320.3550</td>\n",
       "      <td>2009101601001</td>\n",
       "      <td>-9999.0</td>\n",
       "      <td>-9999.0</td>\n",
       "      <td>1</td>\n",
       "    </tr>\n",
       "  </tbody>\n",
       "</table>\n",
       "</div>"
      ],
      "text/plain": [
       "         LAT         LON        TIME   THICK  ELEVATION          FRAME  \\\n",
       "0 -73.347771 -107.628508  57774.5012 -9999.0  7323.3039  2009101601001   \n",
       "1 -73.347826 -107.628834  57774.5726 -9999.0  7322.9762  2009101601001   \n",
       "2 -73.347880 -107.629159  57774.6441 -9999.0  7322.6485  2009101601001   \n",
       "3 -73.347935 -107.629484  57774.7155 -9999.0  7322.3209  2009101601001   \n",
       "4 -73.347990 -107.629810  57774.7869 -9999.0  7321.9932  2009101601001   \n",
       "5 -73.348045 -107.630135  57774.8583 -9999.0  7321.6655  2009101601001   \n",
       "6 -73.348099 -107.630461  57774.9298 -9999.0  7321.3379  2009101601001   \n",
       "7 -73.348154 -107.630786  57775.0012 -9999.0  7321.0103  2009101601001   \n",
       "8 -73.348209 -107.631112  57775.0726 -9999.0  7320.6826  2009101601001   \n",
       "9 -73.348264 -107.631437  57775.1440 -9999.0  7320.3550  2009101601001   \n",
       "\n",
       "   SURFACE  BOTTOM  QUALITY  \n",
       "0  -9999.0 -9999.0        1  \n",
       "1  -9999.0 -9999.0        1  \n",
       "2  -9999.0 -9999.0        1  \n",
       "3  -9999.0 -9999.0        1  \n",
       "4  -9999.0 -9999.0        1  \n",
       "5  -9999.0 -9999.0        1  \n",
       "6  -9999.0 -9999.0        1  \n",
       "7  -9999.0 -9999.0        1  \n",
       "8  -9999.0 -9999.0        1  \n",
       "9  -9999.0 -9999.0        1  "
      ]
     },
     "execution_count": 26,
     "metadata": {},
     "output_type": "execute_result"
    }
   ],
   "source": [
    "df.head(10)"
   ]
  },
  {
   "cell_type": "code",
   "execution_count": 27,
   "metadata": {},
   "outputs": [
    {
     "data": {
      "text/plain": [
       "(168786, 9)"
      ]
     },
     "execution_count": 27,
     "metadata": {},
     "output_type": "execute_result"
    }
   ],
   "source": [
    "df.shape"
   ]
  },
  {
   "cell_type": "code",
   "execution_count": 28,
   "metadata": {},
   "outputs": [],
   "source": [
    "df1=pd.read_excel('C:/Users/User/Documents/INTERNSHIP/eda data/ice melt/2019.xlsx')"
   ]
  },
  {
   "cell_type": "code",
   "execution_count": 50,
   "metadata": {},
   "outputs": [
    {
     "data": {
      "text/html": [
       "<div>\n",
       "<style scoped>\n",
       "    .dataframe tbody tr th:only-of-type {\n",
       "        vertical-align: middle;\n",
       "    }\n",
       "\n",
       "    .dataframe tbody tr th {\n",
       "        vertical-align: top;\n",
       "    }\n",
       "\n",
       "    .dataframe thead th {\n",
       "        text-align: right;\n",
       "    }\n",
       "</style>\n",
       "<table border=\"1\" class=\"dataframe\">\n",
       "  <thead>\n",
       "    <tr style=\"text-align: right;\">\n",
       "      <th></th>\n",
       "      <th>LAT</th>\n",
       "      <th>LON</th>\n",
       "      <th>UTCTIMESOD</th>\n",
       "      <th>THICK</th>\n",
       "      <th>ELEVATION</th>\n",
       "      <th>FRAME</th>\n",
       "      <th>SURFACE</th>\n",
       "      <th>BOTTOM</th>\n",
       "      <th>QUALITY</th>\n",
       "      <th>TIME_COLUMN</th>\n",
       "    </tr>\n",
       "  </thead>\n",
       "  <tbody>\n",
       "    <tr>\n",
       "      <th>0</th>\n",
       "      <td>-68.954343</td>\n",
       "      <td>154.349069</td>\n",
       "      <td>4759.7240</td>\n",
       "      <td>-9999.00</td>\n",
       "      <td>2337.3243</td>\n",
       "      <td>2019112004001</td>\n",
       "      <td>1632.21</td>\n",
       "      <td>-9999.00</td>\n",
       "      <td>1</td>\n",
       "      <td>1970-01-01 00:00:00.000004759</td>\n",
       "    </tr>\n",
       "    <tr>\n",
       "      <th>1</th>\n",
       "      <td>-68.954466</td>\n",
       "      <td>154.349214</td>\n",
       "      <td>4759.8310</td>\n",
       "      <td>-9999.00</td>\n",
       "      <td>2336.3406</td>\n",
       "      <td>2019112004001</td>\n",
       "      <td>1632.21</td>\n",
       "      <td>-9999.00</td>\n",
       "      <td>1</td>\n",
       "      <td>1970-01-01 00:00:00.000004759</td>\n",
       "    </tr>\n",
       "    <tr>\n",
       "      <th>2</th>\n",
       "      <td>-68.954590</td>\n",
       "      <td>154.349359</td>\n",
       "      <td>4759.9380</td>\n",
       "      <td>957.27</td>\n",
       "      <td>2335.3571</td>\n",
       "      <td>2019112004001</td>\n",
       "      <td>1632.20</td>\n",
       "      <td>2589.47</td>\n",
       "      <td>1</td>\n",
       "      <td>1970-01-01 00:00:00.000004759</td>\n",
       "    </tr>\n",
       "    <tr>\n",
       "      <th>3</th>\n",
       "      <td>-68.954713</td>\n",
       "      <td>154.349504</td>\n",
       "      <td>4760.0451</td>\n",
       "      <td>966.94</td>\n",
       "      <td>2334.3732</td>\n",
       "      <td>2019112004001</td>\n",
       "      <td>1631.33</td>\n",
       "      <td>2598.28</td>\n",
       "      <td>1</td>\n",
       "      <td>1970-01-01 00:00:00.000004760</td>\n",
       "    </tr>\n",
       "    <tr>\n",
       "      <th>4</th>\n",
       "      <td>-68.954837</td>\n",
       "      <td>154.349649</td>\n",
       "      <td>4760.1521</td>\n",
       "      <td>964.02</td>\n",
       "      <td>2333.3894</td>\n",
       "      <td>2019112004001</td>\n",
       "      <td>1628.31</td>\n",
       "      <td>2592.33</td>\n",
       "      <td>1</td>\n",
       "      <td>1970-01-01 00:00:00.000004760</td>\n",
       "    </tr>\n",
       "    <tr>\n",
       "      <th>5</th>\n",
       "      <td>-68.954961</td>\n",
       "      <td>154.349794</td>\n",
       "      <td>4760.2592</td>\n",
       "      <td>956.51</td>\n",
       "      <td>2332.4055</td>\n",
       "      <td>2019112004001</td>\n",
       "      <td>1625.27</td>\n",
       "      <td>2581.78</td>\n",
       "      <td>1</td>\n",
       "      <td>1970-01-01 00:00:00.000004760</td>\n",
       "    </tr>\n",
       "    <tr>\n",
       "      <th>6</th>\n",
       "      <td>-68.955084</td>\n",
       "      <td>154.349939</td>\n",
       "      <td>4760.3662</td>\n",
       "      <td>957.16</td>\n",
       "      <td>2331.4216</td>\n",
       "      <td>2019112004001</td>\n",
       "      <td>1623.92</td>\n",
       "      <td>2581.08</td>\n",
       "      <td>1</td>\n",
       "      <td>1970-01-01 00:00:00.000004760</td>\n",
       "    </tr>\n",
       "    <tr>\n",
       "      <th>7</th>\n",
       "      <td>-68.955208</td>\n",
       "      <td>154.350084</td>\n",
       "      <td>4760.4732</td>\n",
       "      <td>957.27</td>\n",
       "      <td>2330.4374</td>\n",
       "      <td>2019112004001</td>\n",
       "      <td>1623.87</td>\n",
       "      <td>2581.14</td>\n",
       "      <td>1</td>\n",
       "      <td>1970-01-01 00:00:00.000004760</td>\n",
       "    </tr>\n",
       "    <tr>\n",
       "      <th>8</th>\n",
       "      <td>-68.955331</td>\n",
       "      <td>154.350229</td>\n",
       "      <td>4760.5803</td>\n",
       "      <td>961.71</td>\n",
       "      <td>2329.4531</td>\n",
       "      <td>2019112004001</td>\n",
       "      <td>1623.82</td>\n",
       "      <td>2585.54</td>\n",
       "      <td>1</td>\n",
       "      <td>1970-01-01 00:00:00.000004760</td>\n",
       "    </tr>\n",
       "    <tr>\n",
       "      <th>9</th>\n",
       "      <td>-68.955455</td>\n",
       "      <td>154.350374</td>\n",
       "      <td>4760.6873</td>\n",
       "      <td>958.83</td>\n",
       "      <td>2328.4685</td>\n",
       "      <td>2019112004001</td>\n",
       "      <td>1621.33</td>\n",
       "      <td>2580.15</td>\n",
       "      <td>1</td>\n",
       "      <td>1970-01-01 00:00:00.000004760</td>\n",
       "    </tr>\n",
       "  </tbody>\n",
       "</table>\n",
       "</div>"
      ],
      "text/plain": [
       "         LAT         LON  UTCTIMESOD    THICK  ELEVATION          FRAME  \\\n",
       "0 -68.954343  154.349069   4759.7240 -9999.00  2337.3243  2019112004001   \n",
       "1 -68.954466  154.349214   4759.8310 -9999.00  2336.3406  2019112004001   \n",
       "2 -68.954590  154.349359   4759.9380   957.27  2335.3571  2019112004001   \n",
       "3 -68.954713  154.349504   4760.0451   966.94  2334.3732  2019112004001   \n",
       "4 -68.954837  154.349649   4760.1521   964.02  2333.3894  2019112004001   \n",
       "5 -68.954961  154.349794   4760.2592   956.51  2332.4055  2019112004001   \n",
       "6 -68.955084  154.349939   4760.3662   957.16  2331.4216  2019112004001   \n",
       "7 -68.955208  154.350084   4760.4732   957.27  2330.4374  2019112004001   \n",
       "8 -68.955331  154.350229   4760.5803   961.71  2329.4531  2019112004001   \n",
       "9 -68.955455  154.350374   4760.6873   958.83  2328.4685  2019112004001   \n",
       "\n",
       "   SURFACE   BOTTOM  QUALITY                   TIME_COLUMN  \n",
       "0  1632.21 -9999.00        1 1970-01-01 00:00:00.000004759  \n",
       "1  1632.21 -9999.00        1 1970-01-01 00:00:00.000004759  \n",
       "2  1632.20  2589.47        1 1970-01-01 00:00:00.000004759  \n",
       "3  1631.33  2598.28        1 1970-01-01 00:00:00.000004760  \n",
       "4  1628.31  2592.33        1 1970-01-01 00:00:00.000004760  \n",
       "5  1625.27  2581.78        1 1970-01-01 00:00:00.000004760  \n",
       "6  1623.92  2581.08        1 1970-01-01 00:00:00.000004760  \n",
       "7  1623.87  2581.14        1 1970-01-01 00:00:00.000004760  \n",
       "8  1623.82  2585.54        1 1970-01-01 00:00:00.000004760  \n",
       "9  1621.33  2580.15        1 1970-01-01 00:00:00.000004760  "
      ]
     },
     "execution_count": 50,
     "metadata": {},
     "output_type": "execute_result"
    }
   ],
   "source": [
    "df1.head(10)"
   ]
  },
  {
   "cell_type": "code",
   "execution_count": 30,
   "metadata": {},
   "outputs": [
    {
     "data": {
      "text/plain": [
       "(168786, 9)"
      ]
     },
     "execution_count": 30,
     "metadata": {},
     "output_type": "execute_result"
    }
   ],
   "source": [
    "df.shape"
   ]
  },
  {
   "cell_type": "code",
   "execution_count": 37,
   "metadata": {},
   "outputs": [
    {
     "name": "stdout",
     "output_type": "stream",
     "text": [
      "Index(['LAT', 'LON', 'TIME', 'THICK', 'ELEVATION', 'FRAME', 'SURFACE',\n",
      "       'BOTTOM', 'QUALITY', 'TIME_COLUMN'],\n",
      "      dtype='object')\n",
      "Index(['LAT', 'LON', 'UTCTIMESOD', 'THICK', 'ELEVATION', 'FRAME', 'SURFACE',\n",
      "       'BOTTOM', 'QUALITY', 'TIME_COLUMN'],\n",
      "      dtype='object')\n"
     ]
    }
   ],
   "source": [
    "print(df.columns)\n",
    "print(df1.columns)"
   ]
  },
  {
   "cell_type": "code",
   "execution_count": 43,
   "metadata": {},
   "outputs": [],
   "source": [
    "df['TIME_COLUMN'] = pd.to_datetime(df['TIME'])\n",
    "df1['TIME_COLUMN'] = pd.to_datetime(df1['UTCTIMESOD'])"
   ]
  },
  {
   "cell_type": "code",
   "execution_count": 44,
   "metadata": {},
   "outputs": [
    {
     "data": {
      "text/html": [
       "<div>\n",
       "<style scoped>\n",
       "    .dataframe tbody tr th:only-of-type {\n",
       "        vertical-align: middle;\n",
       "    }\n",
       "\n",
       "    .dataframe tbody tr th {\n",
       "        vertical-align: top;\n",
       "    }\n",
       "\n",
       "    .dataframe thead th {\n",
       "        text-align: right;\n",
       "    }\n",
       "</style>\n",
       "<table border=\"1\" class=\"dataframe\">\n",
       "  <thead>\n",
       "    <tr style=\"text-align: right;\">\n",
       "      <th></th>\n",
       "      <th>LAT</th>\n",
       "      <th>LON</th>\n",
       "      <th>TIME</th>\n",
       "      <th>THICK</th>\n",
       "      <th>ELEVATION</th>\n",
       "      <th>FRAME</th>\n",
       "      <th>SURFACE</th>\n",
       "      <th>BOTTOM</th>\n",
       "      <th>QUALITY</th>\n",
       "      <th>TIME_COLUMN</th>\n",
       "    </tr>\n",
       "  </thead>\n",
       "  <tbody>\n",
       "    <tr>\n",
       "      <th>0</th>\n",
       "      <td>-73.347771</td>\n",
       "      <td>-107.628508</td>\n",
       "      <td>57774.5012</td>\n",
       "      <td>-9999.0</td>\n",
       "      <td>7323.3039</td>\n",
       "      <td>2009101601001</td>\n",
       "      <td>-9999.0</td>\n",
       "      <td>-9999.0</td>\n",
       "      <td>1</td>\n",
       "      <td>1970-01-01 00:00:00.000057774</td>\n",
       "    </tr>\n",
       "    <tr>\n",
       "      <th>1</th>\n",
       "      <td>-73.347826</td>\n",
       "      <td>-107.628834</td>\n",
       "      <td>57774.5726</td>\n",
       "      <td>-9999.0</td>\n",
       "      <td>7322.9762</td>\n",
       "      <td>2009101601001</td>\n",
       "      <td>-9999.0</td>\n",
       "      <td>-9999.0</td>\n",
       "      <td>1</td>\n",
       "      <td>1970-01-01 00:00:00.000057774</td>\n",
       "    </tr>\n",
       "    <tr>\n",
       "      <th>2</th>\n",
       "      <td>-73.347880</td>\n",
       "      <td>-107.629159</td>\n",
       "      <td>57774.6441</td>\n",
       "      <td>-9999.0</td>\n",
       "      <td>7322.6485</td>\n",
       "      <td>2009101601001</td>\n",
       "      <td>-9999.0</td>\n",
       "      <td>-9999.0</td>\n",
       "      <td>1</td>\n",
       "      <td>1970-01-01 00:00:00.000057774</td>\n",
       "    </tr>\n",
       "    <tr>\n",
       "      <th>3</th>\n",
       "      <td>-73.347935</td>\n",
       "      <td>-107.629484</td>\n",
       "      <td>57774.7155</td>\n",
       "      <td>-9999.0</td>\n",
       "      <td>7322.3209</td>\n",
       "      <td>2009101601001</td>\n",
       "      <td>-9999.0</td>\n",
       "      <td>-9999.0</td>\n",
       "      <td>1</td>\n",
       "      <td>1970-01-01 00:00:00.000057774</td>\n",
       "    </tr>\n",
       "    <tr>\n",
       "      <th>4</th>\n",
       "      <td>-73.347990</td>\n",
       "      <td>-107.629810</td>\n",
       "      <td>57774.7869</td>\n",
       "      <td>-9999.0</td>\n",
       "      <td>7321.9932</td>\n",
       "      <td>2009101601001</td>\n",
       "      <td>-9999.0</td>\n",
       "      <td>-9999.0</td>\n",
       "      <td>1</td>\n",
       "      <td>1970-01-01 00:00:00.000057774</td>\n",
       "    </tr>\n",
       "  </tbody>\n",
       "</table>\n",
       "</div>"
      ],
      "text/plain": [
       "         LAT         LON        TIME   THICK  ELEVATION          FRAME  \\\n",
       "0 -73.347771 -107.628508  57774.5012 -9999.0  7323.3039  2009101601001   \n",
       "1 -73.347826 -107.628834  57774.5726 -9999.0  7322.9762  2009101601001   \n",
       "2 -73.347880 -107.629159  57774.6441 -9999.0  7322.6485  2009101601001   \n",
       "3 -73.347935 -107.629484  57774.7155 -9999.0  7322.3209  2009101601001   \n",
       "4 -73.347990 -107.629810  57774.7869 -9999.0  7321.9932  2009101601001   \n",
       "\n",
       "   SURFACE  BOTTOM  QUALITY                   TIME_COLUMN  \n",
       "0  -9999.0 -9999.0        1 1970-01-01 00:00:00.000057774  \n",
       "1  -9999.0 -9999.0        1 1970-01-01 00:00:00.000057774  \n",
       "2  -9999.0 -9999.0        1 1970-01-01 00:00:00.000057774  \n",
       "3  -9999.0 -9999.0        1 1970-01-01 00:00:00.000057774  \n",
       "4  -9999.0 -9999.0        1 1970-01-01 00:00:00.000057774  "
      ]
     },
     "execution_count": 44,
     "metadata": {},
     "output_type": "execute_result"
    }
   ],
   "source": [
    "df.head()"
   ]
  },
  {
   "cell_type": "code",
   "execution_count": 51,
   "metadata": {},
   "outputs": [
    {
     "data": {
      "text/plain": [
       "[<matplotlib.lines.Line2D at 0x237585a5990>]"
      ]
     },
     "execution_count": 51,
     "metadata": {},
     "output_type": "execute_result"
    },
    {
     "data": {
      "image/png": "[encoded data removed]",
      "text/plain": [
       "<Figure size 1000x600 with 1 Axes>"
      ]
     },
     "metadata": {},
     "output_type": "display_data"
    }
   ],
   "source": [
    "plt.figure(figsize=(10, 6))\n",
    "plt.plot(df['TIME_COLUMN'], df['THICK'], label='Ice Thickness (2009)', marker='o')\n",
    "plt.plot(df['TIME_COLUMN'], df['ELEVATION'], label='Surface Elevation (2009)', marker='o')"
   ]
  },
  {
   "cell_type": "code",
   "execution_count": 39,
   "metadata": {},
   "outputs": [],
   "source": [
    "df_2009 = df[df['TIME_COLUMN'].dt.year == 2009]"
   ]
  },
  {
   "cell_type": "code",
   "execution_count": 45,
   "metadata": {},
   "outputs": [
    {
     "data": {
      "text/html": [
       "<div>\n",
       "<style scoped>\n",
       "    .dataframe tbody tr th:only-of-type {\n",
       "        vertical-align: middle;\n",
       "    }\n",
       "\n",
       "    .dataframe tbody tr th {\n",
       "        vertical-align: top;\n",
       "    }\n",
       "\n",
       "    .dataframe thead th {\n",
       "        text-align: right;\n",
       "    }\n",
       "</style>\n",
       "<table border=\"1\" class=\"dataframe\">\n",
       "  <thead>\n",
       "    <tr style=\"text-align: right;\">\n",
       "      <th></th>\n",
       "      <th>LAT</th>\n",
       "      <th>LON</th>\n",
       "      <th>TIME</th>\n",
       "      <th>THICK</th>\n",
       "      <th>ELEVATION</th>\n",
       "      <th>FRAME</th>\n",
       "      <th>SURFACE</th>\n",
       "      <th>BOTTOM</th>\n",
       "      <th>QUALITY</th>\n",
       "      <th>TIME_COLUMN</th>\n",
       "    </tr>\n",
       "  </thead>\n",
       "  <tbody>\n",
       "  </tbody>\n",
       "</table>\n",
       "</div>"
      ],
      "text/plain": [
       "Empty DataFrame\n",
       "Columns: [LAT, LON, TIME, THICK, ELEVATION, FRAME, SURFACE, BOTTOM, QUALITY, TIME_COLUMN]\n",
       "Index: []"
      ]
     },
     "execution_count": 45,
     "metadata": {},
     "output_type": "execute_result"
    }
   ],
   "source": [
    "df_2009.head()"
   ]
  },
  {
   "cell_type": "code",
   "execution_count": 40,
   "metadata": {},
   "outputs": [],
   "source": [
    "df1_2019 = df1[df1['TIME_COLUMN'].dt.year == 2019]\n"
   ]
  },
  {
   "cell_type": "code",
   "execution_count": 46,
   "metadata": {},
   "outputs": [
    {
     "data": {
      "image/png": "[encoded data removed]",
      "text/plain": [
       "<Figure size 640x480 with 1 Axes>"
      ]
     },
     "metadata": {},
     "output_type": "display_data"
    }
   ],
   "source": [
    "plt.plot(df['TIME'], df['THICK'], label='2009')\n",
    "plt.plot(df1['UTCTIMESOD'], df1['THICK'], label='2019')\n",
    "plt.legend()\n",
    "plt.title('Comparison of Ice Thickness (2009 vs 2019)')\n",
    "plt.xlabel('Timestamp')\n",
    "plt.ylabel('Ice Thickness')\n",
    "plt.show()"
   ]
  },
  {
   "cell_type": "code",
   "execution_count": 42,
   "metadata": {},
   "outputs": [
    {
     "name": "stdout",
     "output_type": "stream",
     "text": [
      "Empty DataFrame\n",
      "Columns: [LAT, LON, TIME, THICK, ELEVATION, FRAME, SURFACE, BOTTOM, QUALITY, TIME_COLUMN]\n",
      "Index: []\n",
      "Empty DataFrame\n",
      "Columns: [LAT, LON, UTCTIMESOD, THICK, ELEVATION, FRAME, SURFACE, BOTTOM, QUALITY, TIME_COLUMN]\n",
      "Index: []\n"
     ]
    }
   ],
   "source": [
    "print(df_2009)\n",
    "print(df1_2019)"
   ]
  }
 ],
 "metadata": {
  "kernelspec": {
   "display_name": "Python 3",
   "language": "python",
   "name": "python3"
  },
  "language_info": {
   "codemirror_mode": {
    "name": "ipython",
    "version": 3
   },
   "file_extension": ".py",
   "mimetype": "text/x-python",
   "name": "python",
   "nbconvert_exporter": "python",
   "pygments_lexer": "ipython3",
   "version": "3.11.4"
  }
 },
 "nbformat": 4,
 "nbformat_minor": 2
}
